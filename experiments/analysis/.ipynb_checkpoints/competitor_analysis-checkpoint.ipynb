{
 "cells": [
  {
   "cell_type": "markdown",
   "id": "b9e5829b",
   "metadata": {},
   "source": [
    "# Competitor Analysis\n",
    "\n",
    "Compare: \n",
    "* Random Search\n",
    "* SMAC\n",
    "* BOHB\n",
    "* HB\n",
    "* Smashy "
   ]
  },
  {
   "cell_type": "code",
   "execution_count": 1,
   "id": "e625b695",
   "metadata": {},
   "outputs": [],
   "source": [
    "library(data.table)\n",
    "library(ggplot2)\n",
    "library(ggpubr)"
   ]
  },
  {
   "cell_type": "code",
   "execution_count": 2,
   "id": "ca780cc4",
   "metadata": {},
   "outputs": [],
   "source": [
    "instances = readRDS(\"../../../paper_2021_multi_fidelity_surrogates/inst/instances.rds\")"
   ]
  },
  {
   "cell_type": "markdown",
   "id": "3898ae10",
   "metadata": {},
   "source": [
    "## LCBench\n",
    "\n",
    "### Preparation"
   ]
  },
  {
   "cell_type": "code",
   "execution_count": null,
   "id": "9c1c68ed",
   "metadata": {},
   "outputs": [
    {
     "data": {
      "text/html": [
       "'../'"
      ],
      "text/latex": [
       "'../'"
      ],
      "text/markdown": [
       "'../'"
      ],
      "text/plain": [
       "[1] \"../\""
      ]
     },
     "metadata": {},
     "output_type": "display_data"
    }
   ],
   "source": [
    "prob = \"lcbench\"\n",
    "\n",
    "df_s = readRDS(file.path(\"..\", \"results_sequential\", \"prepared_files_for_analysis\", prob, \"result_sequential.rds\"))\n",
    "df_p = readRDS(file.path(\"..\", \"results_sequential\", \"prepared_files_for_analysis\", prob, \"result_parallel.rds\"))"
   ]
  },
  {
   "cell_type": "code",
   "execution_count": null,
   "id": "cbe8ba30",
   "metadata": {},
   "outputs": [],
   "source": []
  }
 ],
 "metadata": {
  "kernelspec": {
   "display_name": "R",
   "language": "R",
   "name": "ir"
  },
  "language_info": {
   "codemirror_mode": "r",
   "file_extension": ".r",
   "mimetype": "text/x-r-source",
   "name": "R",
   "pygments_lexer": "r",
   "version": "4.1.0"
  }
 },
 "nbformat": 4,
 "nbformat_minor": 5
}
